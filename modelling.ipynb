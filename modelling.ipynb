{
 "cells": [
  {
   "cell_type": "markdown",
   "metadata": {},
   "source": [
    "# Import Library"
   ]
  },
  {
   "cell_type": "code",
   "execution_count": 1,
   "metadata": {},
   "outputs": [],
   "source": [
    "import numpy as np\n",
    "import pandas as pd \n",
    "from itertools import product\n",
    "from sklearn.metrics import mean_squared_error, mean_absolute_error, r2_score\n",
    "\n",
    "import matplotlib.pyplot as plt\n",
    "import matplotlib.dates as mdates\n",
    "import seaborn as sns\n",
    "\n",
    "# Import model random forest dari file custommodel.py\n",
    "from custommodel import RandomForestRegressor as RF"
   ]
  },
  {
   "cell_type": "markdown",
   "metadata": {},
   "source": [
    "# Import Dataset"
   ]
  },
  {
   "cell_type": "code",
   "execution_count": 2,
   "metadata": {},
   "outputs": [],
   "source": [
    "# membaca file csv\n",
    "data = pd.read_csv('./data_mangrove_area.csv')"
   ]
  },
  {
   "cell_type": "code",
   "execution_count": 3,
   "metadata": {},
   "outputs": [
    {
     "data": {
      "text/html": [
       "<div>\n",
       "<style scoped>\n",
       "    .dataframe tbody tr th:only-of-type {\n",
       "        vertical-align: middle;\n",
       "    }\n",
       "\n",
       "    .dataframe tbody tr th {\n",
       "        vertical-align: top;\n",
       "    }\n",
       "\n",
       "    .dataframe thead th {\n",
       "        text-align: right;\n",
       "    }\n",
       "</style>\n",
       "<table border=\"1\" class=\"dataframe\">\n",
       "  <thead>\n",
       "    <tr style=\"text-align: right;\">\n",
       "      <th></th>\n",
       "      <th>year</th>\n",
       "      <th>ndvi</th>\n",
       "      <th>nir</th>\n",
       "      <th>red</th>\n",
       "      <th>area</th>\n",
       "    </tr>\n",
       "  </thead>\n",
       "  <tbody>\n",
       "    <tr>\n",
       "      <th>0</th>\n",
       "      <td>2021-01-01</td>\n",
       "      <td>4127.14</td>\n",
       "      <td>1226.00</td>\n",
       "      <td>0.540770</td>\n",
       "      <td>456.39</td>\n",
       "    </tr>\n",
       "    <tr>\n",
       "      <th>1</th>\n",
       "      <td>2022-01-01</td>\n",
       "      <td>4741.40</td>\n",
       "      <td>1508.19</td>\n",
       "      <td>0.516945</td>\n",
       "      <td>497.77</td>\n",
       "    </tr>\n",
       "    <tr>\n",
       "      <th>2</th>\n",
       "      <td>2023-01-01</td>\n",
       "      <td>4152.37</td>\n",
       "      <td>1234.85</td>\n",
       "      <td>0.540222</td>\n",
       "      <td>416.00</td>\n",
       "    </tr>\n",
       "    <tr>\n",
       "      <th>3</th>\n",
       "      <td>2024-01-01</td>\n",
       "      <td>4187.05</td>\n",
       "      <td>1254.16</td>\n",
       "      <td>0.537683</td>\n",
       "      <td>373.61</td>\n",
       "    </tr>\n",
       "    <tr>\n",
       "      <th>4</th>\n",
       "      <td>2025-01-01</td>\n",
       "      <td>4187.05</td>\n",
       "      <td>1254.16</td>\n",
       "      <td>0.537683</td>\n",
       "      <td>332.23</td>\n",
       "    </tr>\n",
       "  </tbody>\n",
       "</table>\n",
       "</div>"
      ],
      "text/plain": [
       "         year     ndvi      nir       red    area\n",
       "0  2021-01-01  4127.14  1226.00  0.540770  456.39\n",
       "1  2022-01-01  4741.40  1508.19  0.516945  497.77\n",
       "2  2023-01-01  4152.37  1234.85  0.540222  416.00\n",
       "3  2024-01-01  4187.05  1254.16  0.537683  373.61\n",
       "4  2025-01-01  4187.05  1254.16  0.537683  332.23"
      ]
     },
     "execution_count": 3,
     "metadata": {},
     "output_type": "execute_result"
    }
   ],
   "source": [
    "# menampilkan data\n",
    "data"
   ]
  },
  {
   "cell_type": "code",
   "execution_count": 4,
   "metadata": {},
   "outputs": [],
   "source": [
    "# mengubah format tahun ke datetime\n",
    "data.year = pd.to_datetime(data.year)"
   ]
  },
  {
   "cell_type": "code",
   "execution_count": 5,
   "metadata": {},
   "outputs": [
    {
     "name": "stdout",
     "output_type": "stream",
     "text": [
      "<class 'pandas.core.frame.DataFrame'>\n",
      "RangeIndex: 5 entries, 0 to 4\n",
      "Data columns (total 5 columns):\n",
      " #   Column  Non-Null Count  Dtype         \n",
      "---  ------  --------------  -----         \n",
      " 0   year    5 non-null      datetime64[ns]\n",
      " 1   ndvi    5 non-null      float64       \n",
      " 2   nir     5 non-null      float64       \n",
      " 3   red     5 non-null      float64       \n",
      " 4   area    5 non-null      float64       \n",
      "dtypes: datetime64[ns](1), float64(4)\n",
      "memory usage: 332.0 bytes\n"
     ]
    }
   ],
   "source": [
    "# menampilkan informasi data\n",
    "data.info()"
   ]
  },
  {
   "cell_type": "markdown",
   "metadata": {},
   "source": [
    "# Feature Selection"
   ]
  },
  {
   "cell_type": "code",
   "execution_count": 6,
   "metadata": {},
   "outputs": [],
   "source": [
    "# memilih atribut dan target\n",
    "X = data.drop(columns=['area'])\n",
    "y = data['area']"
   ]
  },
  {
   "cell_type": "code",
   "execution_count": 7,
   "metadata": {},
   "outputs": [
    {
     "data": {
      "text/html": [
       "<div>\n",
       "<style scoped>\n",
       "    .dataframe tbody tr th:only-of-type {\n",
       "        vertical-align: middle;\n",
       "    }\n",
       "\n",
       "    .dataframe tbody tr th {\n",
       "        vertical-align: top;\n",
       "    }\n",
       "\n",
       "    .dataframe thead th {\n",
       "        text-align: right;\n",
       "    }\n",
       "</style>\n",
       "<table border=\"1\" class=\"dataframe\">\n",
       "  <thead>\n",
       "    <tr style=\"text-align: right;\">\n",
       "      <th></th>\n",
       "      <th>year</th>\n",
       "      <th>ndvi</th>\n",
       "      <th>nir</th>\n",
       "      <th>red</th>\n",
       "    </tr>\n",
       "  </thead>\n",
       "  <tbody>\n",
       "    <tr>\n",
       "      <th>0</th>\n",
       "      <td>2021-01-01</td>\n",
       "      <td>4127.14</td>\n",
       "      <td>1226.00</td>\n",
       "      <td>0.540770</td>\n",
       "    </tr>\n",
       "    <tr>\n",
       "      <th>1</th>\n",
       "      <td>2022-01-01</td>\n",
       "      <td>4741.40</td>\n",
       "      <td>1508.19</td>\n",
       "      <td>0.516945</td>\n",
       "    </tr>\n",
       "    <tr>\n",
       "      <th>2</th>\n",
       "      <td>2023-01-01</td>\n",
       "      <td>4152.37</td>\n",
       "      <td>1234.85</td>\n",
       "      <td>0.540222</td>\n",
       "    </tr>\n",
       "    <tr>\n",
       "      <th>3</th>\n",
       "      <td>2024-01-01</td>\n",
       "      <td>4187.05</td>\n",
       "      <td>1254.16</td>\n",
       "      <td>0.537683</td>\n",
       "    </tr>\n",
       "    <tr>\n",
       "      <th>4</th>\n",
       "      <td>2025-01-01</td>\n",
       "      <td>4187.05</td>\n",
       "      <td>1254.16</td>\n",
       "      <td>0.537683</td>\n",
       "    </tr>\n",
       "  </tbody>\n",
       "</table>\n",
       "</div>"
      ],
      "text/plain": [
       "        year     ndvi      nir       red\n",
       "0 2021-01-01  4127.14  1226.00  0.540770\n",
       "1 2022-01-01  4741.40  1508.19  0.516945\n",
       "2 2023-01-01  4152.37  1234.85  0.540222\n",
       "3 2024-01-01  4187.05  1254.16  0.537683\n",
       "4 2025-01-01  4187.05  1254.16  0.537683"
      ]
     },
     "execution_count": 7,
     "metadata": {},
     "output_type": "execute_result"
    }
   ],
   "source": [
    "# menampilkan atribut\n",
    "X"
   ]
  },
  {
   "cell_type": "code",
   "execution_count": 8,
   "metadata": {},
   "outputs": [
    {
     "data": {
      "text/plain": [
       "0    456.39\n",
       "1    497.77\n",
       "2    416.00\n",
       "3    373.61\n",
       "4    332.23\n",
       "Name: area, dtype: float64"
      ]
     },
     "execution_count": 8,
     "metadata": {},
     "output_type": "execute_result"
    }
   ],
   "source": [
    "# menampilkan target\n",
    "y"
   ]
  },
  {
   "cell_type": "markdown",
   "metadata": {},
   "source": [
    "# Hyper Parameter Tuning"
   ]
  },
  {
   "cell_type": "code",
   "execution_count": 9,
   "metadata": {},
   "outputs": [],
   "source": [
    "# menuliskan skema parameter model\n",
    "param_grid = {\n",
    "    \"n_estimators\": [10, 50, 100, 500, 1000],\n",
    "    \"max_depth\": [None, 5, 10, 20],\n",
    "    \"min_samples_split\": [2, 5, 10],\n",
    "}\n"
   ]
  },
  {
   "cell_type": "code",
   "execution_count": 10,
   "metadata": {},
   "outputs": [
    {
     "name": "stdout",
     "output_type": "stream",
     "text": [
      "Params: {'n_estimators': 10, 'max_depth': None, 'min_samples_split': 2}, MSE: 279.5559\n",
      "Params: {'n_estimators': 10, 'max_depth': None, 'min_samples_split': 5}, MSE: 472.6446\n",
      "Params: {'n_estimators': 10, 'max_depth': None, 'min_samples_split': 10}, MSE: 3495.5914\n",
      "Params: {'n_estimators': 10, 'max_depth': 5, 'min_samples_split': 2}, MSE: 370.9706\n",
      "Params: {'n_estimators': 10, 'max_depth': 5, 'min_samples_split': 5}, MSE: 597.6805\n",
      "Params: {'n_estimators': 10, 'max_depth': 5, 'min_samples_split': 10}, MSE: 3432.4360\n",
      "Params: {'n_estimators': 10, 'max_depth': 10, 'min_samples_split': 2}, MSE: 416.7594\n",
      "Params: {'n_estimators': 10, 'max_depth': 10, 'min_samples_split': 5}, MSE: 460.1231\n",
      "Params: {'n_estimators': 10, 'max_depth': 10, 'min_samples_split': 10}, MSE: 3494.6022\n",
      "Params: {'n_estimators': 10, 'max_depth': 20, 'min_samples_split': 2}, MSE: 601.7978\n",
      "Params: {'n_estimators': 10, 'max_depth': 20, 'min_samples_split': 5}, MSE: 443.8896\n",
      "Params: {'n_estimators': 10, 'max_depth': 20, 'min_samples_split': 10}, MSE: 3469.3352\n",
      "Params: {'n_estimators': 50, 'max_depth': None, 'min_samples_split': 2}, MSE: 451.4524\n",
      "Params: {'n_estimators': 50, 'max_depth': None, 'min_samples_split': 5}, MSE: 583.6714\n",
      "Params: {'n_estimators': 50, 'max_depth': None, 'min_samples_split': 10}, MSE: 3439.1714\n",
      "Params: {'n_estimators': 50, 'max_depth': 5, 'min_samples_split': 2}, MSE: 540.4949\n",
      "Params: {'n_estimators': 50, 'max_depth': 5, 'min_samples_split': 5}, MSE: 769.6061\n",
      "Params: {'n_estimators': 50, 'max_depth': 5, 'min_samples_split': 10}, MSE: 3425.7623\n",
      "Params: {'n_estimators': 50, 'max_depth': 10, 'min_samples_split': 2}, MSE: 305.5832\n",
      "Params: {'n_estimators': 50, 'max_depth': 10, 'min_samples_split': 5}, MSE: 620.9049\n",
      "Params: {'n_estimators': 50, 'max_depth': 10, 'min_samples_split': 10}, MSE: 3453.6548\n",
      "Params: {'n_estimators': 50, 'max_depth': 20, 'min_samples_split': 2}, MSE: 461.7222\n",
      "Params: {'n_estimators': 50, 'max_depth': 20, 'min_samples_split': 5}, MSE: 584.9699\n",
      "Params: {'n_estimators': 50, 'max_depth': 20, 'min_samples_split': 10}, MSE: 3449.6397\n",
      "Params: {'n_estimators': 100, 'max_depth': None, 'min_samples_split': 2}, MSE: 273.9885\n",
      "Params: {'n_estimators': 100, 'max_depth': None, 'min_samples_split': 5}, MSE: 653.0937\n",
      "Params: {'n_estimators': 100, 'max_depth': None, 'min_samples_split': 10}, MSE: 3427.3645\n",
      "Params: {'n_estimators': 100, 'max_depth': 5, 'min_samples_split': 2}, MSE: 319.2133\n",
      "Params: {'n_estimators': 100, 'max_depth': 5, 'min_samples_split': 5}, MSE: 603.1540\n",
      "Params: {'n_estimators': 100, 'max_depth': 5, 'min_samples_split': 10}, MSE: 3459.2174\n",
      "Params: {'n_estimators': 100, 'max_depth': 10, 'min_samples_split': 2}, MSE: 325.6560\n",
      "Params: {'n_estimators': 100, 'max_depth': 10, 'min_samples_split': 5}, MSE: 679.2994\n",
      "Params: {'n_estimators': 100, 'max_depth': 10, 'min_samples_split': 10}, MSE: 3428.7422\n",
      "Params: {'n_estimators': 100, 'max_depth': 20, 'min_samples_split': 2}, MSE: 273.6190\n",
      "Params: {'n_estimators': 100, 'max_depth': 20, 'min_samples_split': 5}, MSE: 743.3316\n",
      "Params: {'n_estimators': 100, 'max_depth': 20, 'min_samples_split': 10}, MSE: 3426.5441\n",
      "Params: {'n_estimators': 500, 'max_depth': None, 'min_samples_split': 2}, MSE: 318.4044\n",
      "Params: {'n_estimators': 500, 'max_depth': None, 'min_samples_split': 5}, MSE: 638.3676\n",
      "Params: {'n_estimators': 500, 'max_depth': None, 'min_samples_split': 10}, MSE: 3430.9370\n",
      "Params: {'n_estimators': 500, 'max_depth': 5, 'min_samples_split': 2}, MSE: 346.6403\n",
      "Params: {'n_estimators': 500, 'max_depth': 5, 'min_samples_split': 5}, MSE: 608.6003\n",
      "Params: {'n_estimators': 500, 'max_depth': 5, 'min_samples_split': 10}, MSE: 3427.7648\n",
      "Params: {'n_estimators': 500, 'max_depth': 10, 'min_samples_split': 2}, MSE: 310.2965\n",
      "Params: {'n_estimators': 500, 'max_depth': 10, 'min_samples_split': 5}, MSE: 663.1551\n",
      "Params: {'n_estimators': 500, 'max_depth': 10, 'min_samples_split': 10}, MSE: 3427.5589\n",
      "Params: {'n_estimators': 500, 'max_depth': 20, 'min_samples_split': 2}, MSE: 316.8998\n",
      "Params: {'n_estimators': 500, 'max_depth': 20, 'min_samples_split': 5}, MSE: 656.6690\n",
      "Params: {'n_estimators': 500, 'max_depth': 20, 'min_samples_split': 10}, MSE: 3425.9695\n",
      "Params: {'n_estimators': 1000, 'max_depth': None, 'min_samples_split': 2}, MSE: 323.8362\n",
      "Params: {'n_estimators': 1000, 'max_depth': None, 'min_samples_split': 5}, MSE: 608.0986\n",
      "Params: {'n_estimators': 1000, 'max_depth': None, 'min_samples_split': 10}, MSE: 3426.5214\n",
      "Params: {'n_estimators': 1000, 'max_depth': 5, 'min_samples_split': 2}, MSE: 362.2935\n",
      "Params: {'n_estimators': 1000, 'max_depth': 5, 'min_samples_split': 5}, MSE: 629.4445\n",
      "Params: {'n_estimators': 1000, 'max_depth': 5, 'min_samples_split': 10}, MSE: 3427.1554\n",
      "Params: {'n_estimators': 1000, 'max_depth': 10, 'min_samples_split': 2}, MSE: 307.1813\n",
      "Params: {'n_estimators': 1000, 'max_depth': 10, 'min_samples_split': 5}, MSE: 623.0641\n",
      "Params: {'n_estimators': 1000, 'max_depth': 10, 'min_samples_split': 10}, MSE: 3426.0601\n",
      "Params: {'n_estimators': 1000, 'max_depth': 20, 'min_samples_split': 2}, MSE: 372.7783\n",
      "Params: {'n_estimators': 1000, 'max_depth': 20, 'min_samples_split': 5}, MSE: 613.4266\n",
      "Params: {'n_estimators': 1000, 'max_depth': 20, 'min_samples_split': 10}, MSE: 3426.9697\n"
     ]
    }
   ],
   "source": [
    "# membuat semua kombinasi parameter\n",
    "param_combinations = list(product(*param_grid.values()))\n",
    "\n",
    "# membuat list untuk menyimpan hasil\n",
    "results = []\n",
    "\n",
    "# iterasi setiap kombinasi hyperparameter\n",
    "for params in param_combinations:\n",
    "    # unpack parameter\n",
    "    param_dict = dict(zip(param_grid.keys(), params))\n",
    "    \n",
    "    # inisiasi model dan melatih dengan parameter saat ini\n",
    "    model = RF(**param_dict)\n",
    "    model.fit(X, y)\n",
    "    \n",
    "    # membuat prediksi model\n",
    "    y_pred = model.predict(X)\n",
    "    \n",
    "    # evaluasi prediksi dengan mse\n",
    "    mse = mean_squared_error(y, y_pred)\n",
    "    \n",
    "    # menyimpan hasil pada list result\n",
    "    results.append({**param_dict, 'MSE': mse})\n",
    "\n",
    "    # menampilkan hasil\n",
    "    print(f\"Params: {param_dict}, MSE: {mse:.4f}\")\n",
    "\n",
    "# konversi hasil ke dataframe\n",
    "df_results = pd.DataFrame(results)"
   ]
  },
  {
   "cell_type": "code",
   "execution_count": 28,
   "metadata": {},
   "outputs": [],
   "source": [
    "df_results.to_csv('hyperparameter_tuning_results.csv', index=False)"
   ]
  },
  {
   "cell_type": "code",
   "execution_count": 11,
   "metadata": {},
   "outputs": [
    {
     "name": "stdout",
     "output_type": "stream",
     "text": [
      "n_estimators         100.000000\n",
      "max_depth             20.000000\n",
      "min_samples_split      2.000000\n",
      "MSE                  273.619047\n",
      "Name: 33, dtype: float64\n"
     ]
    }
   ],
   "source": [
    "# menampilkan parameter terbaik\n",
    "best_params = df_results.loc[df_results['MSE'].idxmin()]\n",
    "print(best_params)"
   ]
  },
  {
   "cell_type": "code",
   "execution_count": 12,
   "metadata": {},
   "outputs": [],
   "source": [
    "# mengganti none dengan 0 untuk visualisasi\n",
    "df_results['max_depth'] = df_results['max_depth'].fillna(0)"
   ]
  },
  {
   "cell_type": "code",
   "execution_count": 13,
   "metadata": {},
   "outputs": [],
   "source": [
    "# mencari parameter terbaik\n",
    "best_n_estimators = best_params['n_estimators']\n",
    "best_max_depth = best_params['max_depth']\n",
    "best_min_samples_split = best_params['min_samples_split']\n",
    "\n",
    "# filter dataframe untuk setiap parameter\n",
    "df_n_estimators = df_results[(df_results['max_depth'] == best_max_depth) & \n",
    "                             (df_results['min_samples_split'] == best_min_samples_split)]\n",
    "\n",
    "df_max_depth = df_results[(df_results['n_estimators'] == best_n_estimators) & \n",
    "                          (df_results['min_samples_split'] == best_min_samples_split)]\n",
    "\n",
    "df_min_samples_split = df_results[(df_results['n_estimators'] == best_n_estimators) & \n",
    "                                  (df_results['max_depth'] == best_max_depth)]"
   ]
  },
  {
   "cell_type": "code",
   "execution_count": 24,
   "metadata": {},
   "outputs": [],
   "source": [
    "# fungsi untuk plotting\n",
    "def plot_param_vs_mse(df, param, title, param_values):\n",
    "    plt.figure(figsize=(8, 5))\n",
    "    ax = sns.lineplot(x=param, y='MSE', data=df, marker='o')\n",
    "\n",
    "    for x, y in zip(df[param], df['MSE']):\n",
    "        plt.text(x, y, f\"{y:.2f}\", ha='right', va='bottom', fontsize=10, color='black')\n",
    "\n",
    "    plt.xlabel(param)\n",
    "    plt.ylabel('MSE')\n",
    "    plt.title(title)\n",
    "    plt.xticks(param_values)\n",
    "    plt.grid()\n",
    "    plt.show()"
   ]
  },
  {
   "cell_type": "code",
   "execution_count": 15,
   "metadata": {},
   "outputs": [],
   "source": [
    "# daftar parameter\n",
    "param_grid = {\n",
    "    \"n_estimators\": [10, 50, 100, 500, 1000],\n",
    "    \"max_depth\": [0 if v is None else v for v in [None, 5, 10, 20]],\n",
    "    \"min_samples_split\": [2, 5, 10],\n",
    "}"
   ]
  },
  {
   "cell_type": "code",
   "execution_count": 25,
   "metadata": {},
   "outputs": [
    {
     "data": {
      "image/png": "[encoded data removed]",
      "text/plain": [
       "<Figure size 800x500 with 1 Axes>"
      ]
     },
     "metadata": {},
     "output_type": "display_data"
    }
   ],
   "source": [
    "# visualisasi parameter n_estimator\n",
    "plot_param_vs_mse(df_n_estimators, 'n_estimators', 'MSE vs n_estimators', param_grid['n_estimators'])"
   ]
  },
  {
   "cell_type": "code",
   "execution_count": 26,
   "metadata": {},
   "outputs": [
    {
     "data": {
      "image/png": "[encoded data removed]",
      "text/plain": [
       "<Figure size 800x500 with 1 Axes>"
      ]
     },
     "metadata": {},
     "output_type": "display_data"
    }
   ],
   "source": [
    "# visualisasi parameter max_depth\n",
    "plot_param_vs_mse(df_max_depth, 'max_depth', 'MSE vs max_depth', param_grid['max_depth'])"
   ]
  },
  {
   "cell_type": "code",
   "execution_count": 27,
   "metadata": {},
   "outputs": [
    {
     "data": {
      "image/png": "[encoded data removed]",
      "text/plain": [
       "<Figure size 800x500 with 1 Axes>"
      ]
     },
     "metadata": {},
     "output_type": "display_data"
    }
   ],
   "source": [
    "# visualisasi parameter min_sample_split\n",
    "plot_param_vs_mse(df_min_samples_split, 'min_samples_split', 'MSE vs min_samples_split', param_grid['min_samples_split'])"
   ]
  },
  {
   "cell_type": "markdown",
   "metadata": {},
   "source": [
    "# Train Random Forest"
   ]
  },
  {
   "cell_type": "code",
   "execution_count": 19,
   "metadata": {},
   "outputs": [
    {
     "name": "stdout",
     "output_type": "stream",
     "text": [
      "Tree 1/100 telah dilatih.\n",
      "Tree 2/100 telah dilatih.\n",
      "Tree 3/100 telah dilatih.\n",
      "Tree 4/100 telah dilatih.\n",
      "Tree 5/100 telah dilatih.\n",
      "Tree 6/100 telah dilatih.\n",
      "Tree 7/100 telah dilatih.\n",
      "Tree 8/100 telah dilatih.\n",
      "Tree 9/100 telah dilatih.\n",
      "Tree 10/100 telah dilatih.\n",
      "Tree 11/100 telah dilatih.\n",
      "Tree 12/100 telah dilatih.\n",
      "Tree 13/100 telah dilatih.\n",
      "Tree 14/100 telah dilatih.\n",
      "Tree 15/100 telah dilatih.\n",
      "Tree 16/100 telah dilatih.\n",
      "Tree 17/100 telah dilatih.\n",
      "Tree 18/100 telah dilatih.\n",
      "Tree 19/100 telah dilatih.\n",
      "Tree 20/100 telah dilatih.\n",
      "Tree 21/100 telah dilatih.\n",
      "Tree 22/100 telah dilatih.\n",
      "Tree 23/100 telah dilatih.\n",
      "Tree 24/100 telah dilatih.\n",
      "Tree 25/100 telah dilatih.\n",
      "Tree 26/100 telah dilatih.\n",
      "Tree 27/100 telah dilatih.\n",
      "Tree 28/100 telah dilatih.\n",
      "Tree 29/100 telah dilatih.\n",
      "Tree 30/100 telah dilatih.\n",
      "Tree 31/100 telah dilatih.\n",
      "Tree 32/100 telah dilatih.\n",
      "Tree 33/100 telah dilatih.\n",
      "Tree 34/100 telah dilatih.\n",
      "Tree 35/100 telah dilatih.\n",
      "Tree 36/100 telah dilatih.\n",
      "Tree 37/100 telah dilatih.\n",
      "Tree 38/100 telah dilatih.\n",
      "Tree 39/100 telah dilatih.\n",
      "Tree 40/100 telah dilatih.\n",
      "Tree 41/100 telah dilatih.\n",
      "Tree 42/100 telah dilatih.\n",
      "Tree 43/100 telah dilatih.\n",
      "Tree 44/100 telah dilatih.\n",
      "Tree 45/100 telah dilatih.\n",
      "Tree 46/100 telah dilatih.\n",
      "Tree 47/100 telah dilatih.\n",
      "Tree 48/100 telah dilatih.\n",
      "Tree 49/100 telah dilatih.\n",
      "Tree 50/100 telah dilatih.\n",
      "Tree 51/100 telah dilatih.\n",
      "Tree 52/100 telah dilatih.\n",
      "Tree 53/100 telah dilatih.\n",
      "Tree 54/100 telah dilatih.\n",
      "Tree 55/100 telah dilatih.\n",
      "Tree 56/100 telah dilatih.\n",
      "Tree 57/100 telah dilatih.\n",
      "Tree 58/100 telah dilatih.\n",
      "Tree 59/100 telah dilatih.\n",
      "Tree 60/100 telah dilatih.\n",
      "Tree 61/100 telah dilatih.\n",
      "Tree 62/100 telah dilatih.\n",
      "Tree 63/100 telah dilatih.\n",
      "Tree 64/100 telah dilatih.\n",
      "Tree 65/100 telah dilatih.\n",
      "Tree 66/100 telah dilatih.\n",
      "Tree 67/100 telah dilatih.\n",
      "Tree 68/100 telah dilatih.\n",
      "Tree 69/100 telah dilatih.\n",
      "Tree 70/100 telah dilatih.\n",
      "Tree 71/100 telah dilatih.\n",
      "Tree 72/100 telah dilatih.\n",
      "Tree 73/100 telah dilatih.\n",
      "Tree 74/100 telah dilatih.\n",
      "Tree 75/100 telah dilatih.\n",
      "Tree 76/100 telah dilatih.\n",
      "Tree 77/100 telah dilatih.\n",
      "Tree 78/100 telah dilatih.\n",
      "Tree 79/100 telah dilatih.\n",
      "Tree 80/100 telah dilatih.\n",
      "Tree 81/100 telah dilatih.\n",
      "Tree 82/100 telah dilatih.\n",
      "Tree 83/100 telah dilatih.\n",
      "Tree 84/100 telah dilatih.\n",
      "Tree 85/100 telah dilatih.\n",
      "Tree 86/100 telah dilatih.\n",
      "Tree 87/100 telah dilatih.\n",
      "Tree 88/100 telah dilatih.\n",
      "Tree 89/100 telah dilatih.\n",
      "Tree 90/100 telah dilatih.\n",
      "Tree 91/100 telah dilatih.\n",
      "Tree 92/100 telah dilatih.\n",
      "Tree 93/100 telah dilatih.\n",
      "Tree 94/100 telah dilatih.\n",
      "Tree 95/100 telah dilatih.\n",
      "Tree 96/100 telah dilatih.\n",
      "Tree 97/100 telah dilatih.\n",
      "Tree 98/100 telah dilatih.\n",
      "Tree 99/100 telah dilatih.\n",
      "Tree 100/100 telah dilatih.\n"
     ]
    }
   ],
   "source": [
    "# melatih model berdasarkan parameter terbaik\n",
    "rf = RF(**best_params.drop('MSE').astype(int).to_dict(), verbose=True)\n",
    "rf.fit(X, y)"
   ]
  },
  {
   "cell_type": "markdown",
   "metadata": {},
   "source": [
    "# Evaluate the Model"
   ]
  },
  {
   "cell_type": "code",
   "execution_count": 20,
   "metadata": {},
   "outputs": [],
   "source": [
    "# evaluasi dengan mse\n",
    "mse = mean_squared_error(y, rf.predict(X))"
   ]
  },
  {
   "cell_type": "code",
   "execution_count": 21,
   "metadata": {},
   "outputs": [],
   "source": [
    "# evaluasi dengan mae\n",
    "mae = mean_absolute_error(y, rf.predict(X))"
   ]
  },
  {
   "cell_type": "code",
   "execution_count": 22,
   "metadata": {},
   "outputs": [
    {
     "name": "stdout",
     "output_type": "stream",
     "text": [
      "  Metric       Value\n",
      "0    MSE  301.187211\n",
      "1    MAE   14.171020\n"
     ]
    }
   ],
   "source": [
    "df_result = pd.DataFrame({\n",
    "    \"Metric\": [\"MSE\", \"MAE\"],\n",
    "    \"Value\": [mse, mae]\n",
    "})\n",
    "\n",
    "print(df_result)"
   ]
  },
  {
   "cell_type": "markdown",
   "metadata": {},
   "source": [
    "# Save the Model"
   ]
  },
  {
   "cell_type": "code",
   "execution_count": 23,
   "metadata": {},
   "outputs": [],
   "source": [
    "# menyimpan model ke file pickle\n",
    "rf.save_model(\"./rfmodel.pkl\")"
   ]
  }
 ],
 "metadata": {
  "kernelspec": {
   "display_name": "Python 3",
   "language": "python",
   "name": "python3"
  },
  "language_info": {
   "codemirror_mode": {
    "name": "ipython",
    "version": 3
   },
   "file_extension": ".py",
   "mimetype": "text/x-python",
   "name": "python",
   "nbconvert_exporter": "python",
   "pygments_lexer": "ipython3",
   "version": "3.12.7"
  }
 },
 "nbformat": 4,
 "nbformat_minor": 2
}
