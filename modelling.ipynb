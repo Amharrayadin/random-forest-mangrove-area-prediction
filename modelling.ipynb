{
 "cells": [
  {
   "cell_type": "markdown",
   "metadata": {},
   "source": [
    "# Import Library"
   ]
  },
  {
   "cell_type": "code",
   "execution_count": 15,
   "metadata": {},
   "outputs": [],
   "source": [
    "import numpy as np\n",
    "import pandas as pd \n",
    "from sklearn.metrics import mean_squared_error, mean_absolute_error, r2_score\n",
    "\n",
    "from custommodel import RandomForestRegressor as RF"
   ]
  },
  {
   "cell_type": "markdown",
   "metadata": {},
   "source": [
    "# Data Set"
   ]
  },
  {
   "cell_type": "code",
   "execution_count": 5,
   "metadata": {},
   "outputs": [],
   "source": [
    "data = pd.DataFrame(data={\n",
    "    'year':[2021, 2022, 2023, 2024, 2025],\n",
    "    'ndvi': [4127.14, 4741.4, 4152.37, 4187.05, 4187.05],\n",
    "    'nir': [1226, 1508.19, 1234.85, 1254.16, 1254.16],\n",
    "    'red': [0.54077, 0.516945, 0.540222, 0.537683, 0.537683],\n",
    "    'area': [456.39, 497.77, 416, 373.61, 332.23]\n",
    "})"
   ]
  },
  {
   "cell_type": "code",
   "execution_count": 6,
   "metadata": {},
   "outputs": [
    {
     "data": {
      "text/html": [
       "<div>\n",
       "<style scoped>\n",
       "    .dataframe tbody tr th:only-of-type {\n",
       "        vertical-align: middle;\n",
       "    }\n",
       "\n",
       "    .dataframe tbody tr th {\n",
       "        vertical-align: top;\n",
       "    }\n",
       "\n",
       "    .dataframe thead th {\n",
       "        text-align: right;\n",
       "    }\n",
       "</style>\n",
       "<table border=\"1\" class=\"dataframe\">\n",
       "  <thead>\n",
       "    <tr style=\"text-align: right;\">\n",
       "      <th></th>\n",
       "      <th>year</th>\n",
       "      <th>ndvi</th>\n",
       "      <th>nir</th>\n",
       "      <th>red</th>\n",
       "      <th>area</th>\n",
       "    </tr>\n",
       "  </thead>\n",
       "  <tbody>\n",
       "    <tr>\n",
       "      <th>0</th>\n",
       "      <td>2021</td>\n",
       "      <td>4127.14</td>\n",
       "      <td>1226.00</td>\n",
       "      <td>0.540770</td>\n",
       "      <td>456.39</td>\n",
       "    </tr>\n",
       "    <tr>\n",
       "      <th>1</th>\n",
       "      <td>2022</td>\n",
       "      <td>4741.40</td>\n",
       "      <td>1508.19</td>\n",
       "      <td>0.516945</td>\n",
       "      <td>497.77</td>\n",
       "    </tr>\n",
       "    <tr>\n",
       "      <th>2</th>\n",
       "      <td>2023</td>\n",
       "      <td>4152.37</td>\n",
       "      <td>1234.85</td>\n",
       "      <td>0.540222</td>\n",
       "      <td>416.00</td>\n",
       "    </tr>\n",
       "    <tr>\n",
       "      <th>3</th>\n",
       "      <td>2024</td>\n",
       "      <td>4187.05</td>\n",
       "      <td>1254.16</td>\n",
       "      <td>0.537683</td>\n",
       "      <td>373.61</td>\n",
       "    </tr>\n",
       "    <tr>\n",
       "      <th>4</th>\n",
       "      <td>2025</td>\n",
       "      <td>4187.05</td>\n",
       "      <td>1254.16</td>\n",
       "      <td>0.537683</td>\n",
       "      <td>332.23</td>\n",
       "    </tr>\n",
       "  </tbody>\n",
       "</table>\n",
       "</div>"
      ],
      "text/plain": [
       "   year     ndvi      nir       red    area\n",
       "0  2021  4127.14  1226.00  0.540770  456.39\n",
       "1  2022  4741.40  1508.19  0.516945  497.77\n",
       "2  2023  4152.37  1234.85  0.540222  416.00\n",
       "3  2024  4187.05  1254.16  0.537683  373.61\n",
       "4  2025  4187.05  1254.16  0.537683  332.23"
      ]
     },
     "execution_count": 6,
     "metadata": {},
     "output_type": "execute_result"
    }
   ],
   "source": [
    "data"
   ]
  },
  {
   "cell_type": "markdown",
   "metadata": {},
   "source": [
    "# Feature Selection"
   ]
  },
  {
   "cell_type": "code",
   "execution_count": 10,
   "metadata": {},
   "outputs": [],
   "source": [
    "X = data.drop(columns=['area'])\n",
    "y = data['area']"
   ]
  },
  {
   "cell_type": "code",
   "execution_count": 11,
   "metadata": {},
   "outputs": [
    {
     "data": {
      "text/html": [
       "<div>\n",
       "<style scoped>\n",
       "    .dataframe tbody tr th:only-of-type {\n",
       "        vertical-align: middle;\n",
       "    }\n",
       "\n",
       "    .dataframe tbody tr th {\n",
       "        vertical-align: top;\n",
       "    }\n",
       "\n",
       "    .dataframe thead th {\n",
       "        text-align: right;\n",
       "    }\n",
       "</style>\n",
       "<table border=\"1\" class=\"dataframe\">\n",
       "  <thead>\n",
       "    <tr style=\"text-align: right;\">\n",
       "      <th></th>\n",
       "      <th>year</th>\n",
       "      <th>ndvi</th>\n",
       "      <th>nir</th>\n",
       "      <th>red</th>\n",
       "    </tr>\n",
       "  </thead>\n",
       "  <tbody>\n",
       "    <tr>\n",
       "      <th>0</th>\n",
       "      <td>2021</td>\n",
       "      <td>4127.14</td>\n",
       "      <td>1226.00</td>\n",
       "      <td>0.540770</td>\n",
       "    </tr>\n",
       "    <tr>\n",
       "      <th>1</th>\n",
       "      <td>2022</td>\n",
       "      <td>4741.40</td>\n",
       "      <td>1508.19</td>\n",
       "      <td>0.516945</td>\n",
       "    </tr>\n",
       "    <tr>\n",
       "      <th>2</th>\n",
       "      <td>2023</td>\n",
       "      <td>4152.37</td>\n",
       "      <td>1234.85</td>\n",
       "      <td>0.540222</td>\n",
       "    </tr>\n",
       "    <tr>\n",
       "      <th>3</th>\n",
       "      <td>2024</td>\n",
       "      <td>4187.05</td>\n",
       "      <td>1254.16</td>\n",
       "      <td>0.537683</td>\n",
       "    </tr>\n",
       "    <tr>\n",
       "      <th>4</th>\n",
       "      <td>2025</td>\n",
       "      <td>4187.05</td>\n",
       "      <td>1254.16</td>\n",
       "      <td>0.537683</td>\n",
       "    </tr>\n",
       "  </tbody>\n",
       "</table>\n",
       "</div>"
      ],
      "text/plain": [
       "   year     ndvi      nir       red\n",
       "0  2021  4127.14  1226.00  0.540770\n",
       "1  2022  4741.40  1508.19  0.516945\n",
       "2  2023  4152.37  1234.85  0.540222\n",
       "3  2024  4187.05  1254.16  0.537683\n",
       "4  2025  4187.05  1254.16  0.537683"
      ]
     },
     "execution_count": 11,
     "metadata": {},
     "output_type": "execute_result"
    }
   ],
   "source": [
    "X"
   ]
  },
  {
   "cell_type": "code",
   "execution_count": 12,
   "metadata": {},
   "outputs": [
    {
     "data": {
      "text/plain": [
       "0    456.39\n",
       "1    497.77\n",
       "2    416.00\n",
       "3    373.61\n",
       "4    332.23\n",
       "Name: area, dtype: float64"
      ]
     },
     "execution_count": 12,
     "metadata": {},
     "output_type": "execute_result"
    }
   ],
   "source": [
    "y"
   ]
  },
  {
   "cell_type": "markdown",
   "metadata": {},
   "source": [
    "# Train Random Forest"
   ]
  },
  {
   "cell_type": "code",
   "execution_count": 14,
   "metadata": {},
   "outputs": [
    {
     "name": "stdout",
     "output_type": "stream",
     "text": [
      "Tree 1/100 trained.\n",
      "Tree 2/100 trained.\n",
      "Tree 3/100 trained.\n",
      "Tree 4/100 trained.\n",
      "Tree 5/100 trained.\n",
      "Tree 6/100 trained.\n",
      "Tree 7/100 trained.\n",
      "Tree 8/100 trained.\n",
      "Tree 9/100 trained.\n",
      "Tree 10/100 trained.\n",
      "Tree 11/100 trained.\n",
      "Tree 12/100 trained.\n",
      "Tree 13/100 trained.\n",
      "Tree 14/100 trained.\n",
      "Tree 15/100 trained.\n",
      "Tree 16/100 trained.\n",
      "Tree 17/100 trained.\n",
      "Tree 18/100 trained.\n",
      "Tree 19/100 trained.\n",
      "Tree 20/100 trained.\n",
      "Tree 21/100 trained.\n",
      "Tree 22/100 trained.\n",
      "Tree 23/100 trained.\n",
      "Tree 24/100 trained.\n",
      "Tree 25/100 trained.\n",
      "Tree 26/100 trained.\n",
      "Tree 27/100 trained.\n",
      "Tree 28/100 trained.\n",
      "Tree 29/100 trained.\n",
      "Tree 30/100 trained.\n",
      "Tree 31/100 trained.\n",
      "Tree 32/100 trained.\n",
      "Tree 33/100 trained.\n",
      "Tree 34/100 trained.\n",
      "Tree 35/100 trained.\n",
      "Tree 36/100 trained.\n",
      "Tree 37/100 trained.\n",
      "Tree 38/100 trained.\n",
      "Tree 39/100 trained.\n",
      "Tree 40/100 trained.\n",
      "Tree 41/100 trained.\n",
      "Tree 42/100 trained.\n",
      "Tree 43/100 trained.\n",
      "Tree 44/100 trained.\n",
      "Tree 45/100 trained.\n",
      "Tree 46/100 trained.\n",
      "Tree 47/100 trained.\n",
      "Tree 48/100 trained.\n",
      "Tree 49/100 trained.\n",
      "Tree 50/100 trained.\n",
      "Tree 51/100 trained.\n",
      "Tree 52/100 trained.\n",
      "Tree 53/100 trained.\n",
      "Tree 54/100 trained.\n",
      "Tree 55/100 trained.\n",
      "Tree 56/100 trained.\n",
      "Tree 57/100 trained.\n",
      "Tree 58/100 trained.\n",
      "Tree 59/100 trained.\n",
      "Tree 60/100 trained.\n",
      "Tree 61/100 trained.\n",
      "Tree 62/100 trained.\n",
      "Tree 63/100 trained.\n",
      "Tree 64/100 trained.\n",
      "Tree 65/100 trained.\n",
      "Tree 66/100 trained.\n",
      "Tree 67/100 trained.\n",
      "Tree 68/100 trained.\n",
      "Tree 69/100 trained.\n",
      "Tree 70/100 trained.\n",
      "Tree 71/100 trained.\n",
      "Tree 72/100 trained.\n",
      "Tree 73/100 trained.\n",
      "Tree 74/100 trained.\n",
      "Tree 75/100 trained.\n",
      "Tree 76/100 trained.\n",
      "Tree 77/100 trained.\n",
      "Tree 78/100 trained.\n",
      "Tree 79/100 trained.\n",
      "Tree 80/100 trained.\n",
      "Tree 81/100 trained.\n",
      "Tree 82/100 trained.\n",
      "Tree 83/100 trained.\n",
      "Tree 84/100 trained.\n",
      "Tree 85/100 trained.\n",
      "Tree 86/100 trained.\n",
      "Tree 87/100 trained.\n",
      "Tree 88/100 trained.\n",
      "Tree 89/100 trained.\n",
      "Tree 90/100 trained.\n",
      "Tree 91/100 trained.\n",
      "Tree 92/100 trained.\n",
      "Tree 93/100 trained.\n",
      "Tree 94/100 trained.\n",
      "Tree 95/100 trained.\n",
      "Tree 96/100 trained.\n",
      "Tree 97/100 trained.\n",
      "Tree 98/100 trained.\n",
      "Tree 99/100 trained.\n",
      "Tree 100/100 trained.\n"
     ]
    }
   ],
   "source": [
    "rf = RF(n_estimators=100, min_samples_split=5, max_depth=5, verbose=True)\n",
    "rf.fit(X, y)"
   ]
  },
  {
   "cell_type": "markdown",
   "metadata": {},
   "source": [
    "# Evaluate the Model"
   ]
  },
  {
   "cell_type": "code",
   "execution_count": 20,
   "metadata": {},
   "outputs": [
    {
     "data": {
      "text/plain": [
       "19.35668833333333"
      ]
     },
     "execution_count": 20,
     "metadata": {},
     "output_type": "execute_result"
    }
   ],
   "source": [
    "mean_absolute_error(y, rf.predict(X))"
   ]
  },
  {
   "cell_type": "markdown",
   "metadata": {},
   "source": [
    "# Save the Model"
   ]
  },
  {
   "cell_type": "code",
   "execution_count": 21,
   "metadata": {},
   "outputs": [],
   "source": [
    "rf.save_model(\"./rfmodel.pkl\")"
   ]
  }
 ],
 "metadata": {
  "kernelspec": {
   "display_name": "Python 3",
   "language": "python",
   "name": "python3"
  },
  "language_info": {
   "codemirror_mode": {
    "name": "ipython",
    "version": 3
   },
   "file_extension": ".py",
   "mimetype": "text/x-python",
   "name": "python",
   "nbconvert_exporter": "python",
   "pygments_lexer": "ipython3",
   "version": "3.12.7"
  }
 },
 "nbformat": 4,
 "nbformat_minor": 2
}
